{
 "cells": [
  {
   "cell_type": "code",
   "execution_count": 1,
   "metadata": {},
   "outputs": [],
   "source": [
    "import matplotlib.pyplot as plt\n",
    "import numpy as np\n",
    "import pandas as pd\n",
    "import pandas\n",
    "\n",
    "from data_loader import data_label_split\n",
    "from data_loader import generate_data_set\n",
    "from data_loader import dmso_taxol_ProfileBag\n",
    "\n",
    "from base_exp import train\n",
    "from base_exp import multi_mini_noise_signal_cv\n",
    "\n",
    "from sklearn import datasets\n",
    "from sklearn.linear_model import LogisticRegression\n",
    "from sklearn.model_selection import cross_validate\n",
    "from sklearn.model_selection import StratifiedKFold\n",
    "from sklearn.metrics import confusion_matrix\n",
    "from sklearn.ensemble import RandomForestClassifier\n",
    "from sklearn.neighbors import KNeighborsClassifier\n",
    "import torch.utils.data as D"
   ]
  },
  {
   "cell_type": "markdown",
   "metadata": {},
   "source": [
    "Load data"
   ]
  },
  {
   "cell_type": "code",
   "execution_count": 2,
   "metadata": {},
   "outputs": [],
   "source": [
    "drop_NA_data=pd.read_csv(\"moa_data_drop_NA.csv\", index_col=0)"
   ]
  },
  {
   "cell_type": "code",
   "execution_count": 3,
   "metadata": {},
   "outputs": [],
   "source": [
    "mini_data = pd.read_csv(\"mini_moa_data_drop_NA.csv\", index_col = 0)"
   ]
  },
  {
   "cell_type": "code",
   "execution_count": 12,
   "metadata": {},
   "outputs": [
    {
     "data": {
      "text/plain": [
       "<matplotlib.collections.PathCollection at 0x2aef4ac31190>"
      ]
     },
     "execution_count": 12,
     "metadata": {},
     "output_type": "execute_result"
    },
    {
     "data": {
      "image/png": "[encoded data removed]",
      "text/plain": [
       "<Figure size 432x288 with 1 Axes>"
      ]
     },
     "metadata": {
      "needs_background": "light"
     },
     "output_type": "display_data"
    }
   ],
   "source": [
    "plt.scatter(mini_data['Texture_SumVariance_Actin_5_02_Cells'],mini_data['Texture_SumVariance_Actin_5_03_Cells'])"
   ]
  },
  {
   "cell_type": "code",
   "execution_count": 18,
   "metadata": {},
   "outputs": [
    {
     "data": {
      "text/plain": [
       "<matplotlib.collections.PathCollection at 0x2aef4d843e20>"
      ]
     },
     "execution_count": 18,
     "metadata": {},
     "output_type": "execute_result"
    },
    {
     "data": {
      "image/png": "[encoded data removed]",
      "text/plain": [
       "<Figure size 432x288 with 1 Axes>"
      ]
     },
     "metadata": {
      "needs_background": "light"
     },
     "output_type": "display_data"
    }
   ],
   "source": [
    "plt.scatter(drop_NA_data['Texture_Entropy_Tubulin_5_00_Cytoskeleton'],\n",
    "            drop_NA_data['Intensity_MeanIntensityEdge_DNA_Nuclei'])"
   ]
  },
  {
   "cell_type": "code",
   "execution_count": null,
   "metadata": {},
   "outputs": [],
   "source": [
    "nuclear_texture feature "
   ]
  },
  {
   "cell_type": "code",
   "execution_count": null,
   "metadata": {},
   "outputs": [],
   "source": [
    "drop_NA_data['Metadata_PlateID_Nuclei'].value_counts()"
   ]
  },
  {
   "cell_type": "code",
   "execution_count": 9,
   "metadata": {
    "collapsed": true,
    "jupyter": {
     "outputs_hidden": true
    },
    "tags": []
   },
   "outputs": [
    {
     "data": {
      "text/plain": [
       "Week3_25421     89\n",
       "Week1_22381     89\n",
       "Week5_29341     85\n",
       "Week3_25721     85\n",
       "Week7_34641     84\n",
       "Week10_40111    81\n",
       "Week4_27801     80\n",
       "Week3_25681     78\n",
       "Week3_25441     77\n",
       "Week3_25701     74\n",
       "Week10_40115    73\n",
       "Week2_24361     71\n",
       "Week5_29301     71\n",
       "Week5_29321     69\n",
       "Week1_22401     68\n",
       "Week3_25461     67\n",
       "Week4_27821     65\n",
       "Week6_32061     64\n",
       "Week1_22141     62\n",
       "Week1_22161     61\n",
       "Week5_28921     60\n",
       "Week5_28901     60\n",
       "Week4_27861     59\n",
       "Week7_34341     58\n",
       "Week10_40119    57\n",
       "Week1_22123     56\n",
       "Week5_28961     56\n",
       "Week9_39221     55\n",
       "Week7_34661     53\n",
       "Week7_34381     52\n",
       "Week1_22361     51\n",
       "Week4_27521     50\n",
       "Week6_31641     50\n",
       "Week2_24121     50\n",
       "Week9_39206     49\n",
       "Week6_32121     48\n",
       "Week6_31661     47\n",
       "Week9_39222     45\n",
       "Week2_24161     43\n",
       "Week8_38221     42\n",
       "Week9_39301     41\n",
       "Week2_24141     39\n",
       "Week2_24401     38\n",
       "Week7_34681     37\n",
       "Week6_31681     36\n",
       "Week2_24381     34\n",
       "Week4_27542     32\n",
       "Week6_32161     31\n",
       "Week4_27481     31\n",
       "Week9_39283     30\n",
       "Week8_38342     27\n",
       "Week8_38203     26\n",
       "Week8_38341     25\n",
       "Week8_38241     22\n",
       "Week9_39282     17\n",
       "Name: Metadata_PlateID_Nuclei, dtype: int64"
      ]
     },
     "execution_count": 9,
     "metadata": {},
     "output_type": "execute_result"
    }
   ],
   "source": [
    "mini_data['Metadata_PlateID_Nuclei'].value_counts()"
   ]
  },
  {
   "cell_type": "code",
   "execution_count": 8,
   "metadata": {
    "collapsed": true,
    "jupyter": {
     "outputs_hidden": true
    },
    "tags": []
   },
   "outputs": [
    {
     "data": {
      "text/plain": [
       "Week10_40111    7856\n",
       "Week3_25721     7819\n",
       "Week5_29321     7803\n",
       "Week7_34641     7715\n",
       "Week3_25461     7559\n",
       "Week5_29341     7534\n",
       "Week3_25681     7351\n",
       "Week3_25701     7212\n",
       "Week1_22381     7132\n",
       "Week4_27801     7124\n",
       "Week10_40115    7109\n",
       "Week3_25421     7060\n",
       "Week5_29301     7059\n",
       "Week5_28921     7035\n",
       "Week1_22401     6903\n",
       "Week4_27521     6894\n",
       "Week4_27821     6868\n",
       "Week2_24361     6823\n",
       "Week5_28961     6820\n",
       "Week1_22361     6627\n",
       "Week1_22141     6447\n",
       "Week3_25441     6415\n",
       "Week7_34341     6267\n",
       "Week1_22123     6222\n",
       "Week10_40119    6193\n",
       "Week5_28901     5961\n",
       "Week4_27861     5828\n",
       "Week6_31661     5765\n",
       "Week1_22161     5715\n",
       "Week7_34661     5658\n",
       "Week7_34381     5508\n",
       "Week6_32061     5246\n",
       "Week6_32121     5116\n",
       "Week6_31641     4809\n",
       "Week9_39222     4697\n",
       "Week2_24121     4379\n",
       "Week9_39221     4315\n",
       "Week9_39206     4275\n",
       "Week2_24141     4245\n",
       "Week2_24161     4244\n",
       "Week4_27542     4225\n",
       "Week8_38221     4188\n",
       "Week6_31681     4160\n",
       "Week4_27481     4066\n",
       "Week2_24401     3938\n",
       "Week7_34681     3834\n",
       "Week9_39283     3610\n",
       "Week8_38203     3147\n",
       "Week2_24381     2801\n",
       "Week8_38342     2757\n",
       "Week8_38341     2620\n",
       "Week9_39301     2495\n",
       "Week6_32161     2476\n",
       "Week8_38241     2472\n",
       "Week9_39282     2438\n",
       "Name: Metadata_PlateID_Nuclei, dtype: int64"
      ]
     },
     "execution_count": 8,
     "metadata": {},
     "output_type": "execute_result"
    }
   ],
   "source": [
    "drop_NA_data['Metadata_PlateID_Nuclei'].value_counts()"
   ]
  },
  {
   "cell_type": "markdown",
   "metadata": {},
   "source": [
    "# Full features\n",
    "## Logistic Regression"
   ]
  },
  {
   "cell_type": "code",
   "execution_count": 3,
   "metadata": {},
   "outputs": [
    {
     "name": "stderr",
     "output_type": "stream",
     "text": [
      "K fold CV: 10it [00:05,  1.82it/s]\n",
      "K fold CV: 10it [00:05,  1.78it/s]\n",
      "K fold CV: 10it [00:05,  1.75it/s]\n",
      "K fold CV: 10it [00:05,  1.71it/s]\n",
      "K fold CV: 10it [00:05,  1.74it/s]\n",
      "K fold CV: 10it [00:05,  1.74it/s]\n",
      "K fold CV: 10it [00:05,  1.75it/s]\n",
      "K fold CV: 10it [00:05,  1.70it/s]\n",
      "K fold CV: 10it [00:05,  1.71it/s]\n",
      "K fold CV: 10it [00:06,  1.63it/s]\n",
      "K fold CV: 10it [00:06,  1.61it/s]\n",
      "K fold CV: 10it [00:06,  1.62it/s]\n",
      "K fold CV: 10it [00:05,  1.69it/s]\n",
      "K fold CV: 10it [00:06,  1.64it/s]\n",
      "K fold CV: 10it [00:06,  1.60it/s]\n",
      "K fold CV: 10it [00:06,  1.56it/s]\n",
      "K fold CV: 10it [00:06,  1.58it/s]\n",
      "K fold CV: 10it [00:06,  1.53it/s]\n",
      "K fold CV: 10it [00:06,  1.52it/s]\n"
     ]
    }
   ],
   "source": [
    "# results,dic = multi_mini_noise_signal_cv(500,mini_data, \"taxol\", \"DMSO\", RandomForestClassifier(min_samples_split=50, random_state=0), 10, 0)\n",
    "train(500, mini_data, RandomForestClassifier(min_samples_split=50, random_state=0), 0)\n"
   ]
  },
  {
   "cell_type": "code",
   "execution_count": 5,
   "metadata": {
    "collapsed": true,
    "jupyter": {
     "outputs_hidden": true
    }
   },
   "outputs": [
    {
     "name": "stderr",
     "output_type": "stream",
     "text": [
      "K fold CV: 10it [00:05,  1.74it/s]\n",
      "K fold CV: 10it [00:05,  1.69it/s]\n",
      "K fold CV: 10it [00:05,  1.73it/s]\n",
      "K fold CV: 10it [00:05,  1.67it/s]\n",
      "K fold CV: 10it [00:05,  1.68it/s]\n",
      "K fold CV: 10it [00:05,  1.70it/s]\n",
      "K fold CV: 10it [00:06,  1.64it/s]\n",
      "K fold CV: 10it [00:05,  1.72it/s]\n",
      "K fold CV: 10it [00:06,  1.67it/s]\n",
      "K fold CV: 10it [00:06,  1.63it/s]\n",
      "K fold CV: 10it [00:06,  1.64it/s]\n",
      "K fold CV: 10it [00:06,  1.63it/s]\n",
      "K fold CV: 10it [00:05,  1.71it/s]\n",
      "K fold CV: 10it [00:06,  1.60it/s]\n",
      "K fold CV: 10it [00:06,  1.59it/s]\n",
      "K fold CV: 10it [00:06,  1.62it/s]\n",
      "K fold CV: 10it [00:06,  1.54it/s]\n",
      "K fold CV: 10it [00:06,  1.56it/s]\n",
      "K fold CV: 10it [00:06,  1.54it/s]\n"
     ]
    }
   ],
   "source": [
    "dic = multi_mini_noise_signal_cv(500,mini_data, \"taxol\", \"DMSO\", RandomForestClassifier(min_samples_split=50, random_state=0), 10, 0)"
   ]
  },
  {
   "cell_type": "code",
   "execution_count": 8,
   "metadata": {},
   "outputs": [
    {
     "data": {
      "text/html": [
       "<div>\n",
       "<style scoped>\n",
       "    .dataframe tbody tr th:only-of-type {\n",
       "        vertical-align: middle;\n",
       "    }\n",
       "\n",
       "    .dataframe tbody tr th {\n",
       "        vertical-align: top;\n",
       "    }\n",
       "\n",
       "    .dataframe thead th {\n",
       "        text-align: right;\n",
       "    }\n",
       "</style>\n",
       "<table border=\"1\" class=\"dataframe\">\n",
       "  <thead>\n",
       "    <tr style=\"text-align: right;\">\n",
       "      <th></th>\n",
       "      <th>0</th>\n",
       "      <th>1</th>\n",
       "      <th>2</th>\n",
       "      <th>3</th>\n",
       "      <th>4</th>\n",
       "      <th>5</th>\n",
       "    </tr>\n",
       "  </thead>\n",
       "  <tbody>\n",
       "    <tr>\n",
       "      <th>0.05</th>\n",
       "      <td>0.510</td>\n",
       "      <td>0.099700</td>\n",
       "      <td>0.504816</td>\n",
       "      <td>0.067652</td>\n",
       "      <td>0.498951</td>\n",
       "      <td>0.060627</td>\n",
       "    </tr>\n",
       "    <tr>\n",
       "      <th>0.10</th>\n",
       "      <td>0.470</td>\n",
       "      <td>0.053852</td>\n",
       "      <td>0.497508</td>\n",
       "      <td>0.067198</td>\n",
       "      <td>0.507472</td>\n",
       "      <td>0.093925</td>\n",
       "    </tr>\n",
       "    <tr>\n",
       "      <th>0.15</th>\n",
       "      <td>0.478</td>\n",
       "      <td>0.045122</td>\n",
       "      <td>0.492043</td>\n",
       "      <td>0.077470</td>\n",
       "      <td>0.509132</td>\n",
       "      <td>0.121349</td>\n",
       "    </tr>\n",
       "    <tr>\n",
       "      <th>0.20</th>\n",
       "      <td>0.538</td>\n",
       "      <td>0.054736</td>\n",
       "      <td>0.483976</td>\n",
       "      <td>0.079624</td>\n",
       "      <td>0.529100</td>\n",
       "      <td>0.149325</td>\n",
       "    </tr>\n",
       "    <tr>\n",
       "      <th>0.25</th>\n",
       "      <td>0.530</td>\n",
       "      <td>0.058138</td>\n",
       "      <td>0.469254</td>\n",
       "      <td>0.082300</td>\n",
       "      <td>0.538132</td>\n",
       "      <td>0.183277</td>\n",
       "    </tr>\n",
       "    <tr>\n",
       "      <th>0.30</th>\n",
       "      <td>0.576</td>\n",
       "      <td>0.051225</td>\n",
       "      <td>0.463279</td>\n",
       "      <td>0.083025</td>\n",
       "      <td>0.556693</td>\n",
       "      <td>0.199668</td>\n",
       "    </tr>\n",
       "    <tr>\n",
       "      <th>0.35</th>\n",
       "      <td>0.604</td>\n",
       "      <td>0.041761</td>\n",
       "      <td>0.449233</td>\n",
       "      <td>0.089443</td>\n",
       "      <td>0.562516</td>\n",
       "      <td>0.214536</td>\n",
       "    </tr>\n",
       "    <tr>\n",
       "      <th>0.40</th>\n",
       "      <td>0.620</td>\n",
       "      <td>0.049800</td>\n",
       "      <td>0.437192</td>\n",
       "      <td>0.098789</td>\n",
       "      <td>0.573784</td>\n",
       "      <td>0.229918</td>\n",
       "    </tr>\n",
       "    <tr>\n",
       "      <th>0.45</th>\n",
       "      <td>0.620</td>\n",
       "      <td>0.045607</td>\n",
       "      <td>0.424998</td>\n",
       "      <td>0.113331</td>\n",
       "      <td>0.580572</td>\n",
       "      <td>0.245151</td>\n",
       "    </tr>\n",
       "    <tr>\n",
       "      <th>0.50</th>\n",
       "      <td>0.680</td>\n",
       "      <td>0.057966</td>\n",
       "      <td>0.407628</td>\n",
       "      <td>0.113583</td>\n",
       "      <td>0.609229</td>\n",
       "      <td>0.258133</td>\n",
       "    </tr>\n",
       "    <tr>\n",
       "      <th>0.55</th>\n",
       "      <td>0.684</td>\n",
       "      <td>0.057827</td>\n",
       "      <td>0.386953</td>\n",
       "      <td>0.121222</td>\n",
       "      <td>0.627157</td>\n",
       "      <td>0.269813</td>\n",
       "    </tr>\n",
       "    <tr>\n",
       "      <th>0.60</th>\n",
       "      <td>0.734</td>\n",
       "      <td>0.047371</td>\n",
       "      <td>0.375869</td>\n",
       "      <td>0.120349</td>\n",
       "      <td>0.641740</td>\n",
       "      <td>0.280826</td>\n",
       "    </tr>\n",
       "    <tr>\n",
       "      <th>0.65</th>\n",
       "      <td>0.778</td>\n",
       "      <td>0.046861</td>\n",
       "      <td>0.348767</td>\n",
       "      <td>0.131334</td>\n",
       "      <td>0.664006</td>\n",
       "      <td>0.292834</td>\n",
       "    </tr>\n",
       "    <tr>\n",
       "      <th>0.70</th>\n",
       "      <td>0.790</td>\n",
       "      <td>0.037148</td>\n",
       "      <td>0.326826</td>\n",
       "      <td>0.143247</td>\n",
       "      <td>0.692515</td>\n",
       "      <td>0.302109</td>\n",
       "    </tr>\n",
       "    <tr>\n",
       "      <th>0.75</th>\n",
       "      <td>0.814</td>\n",
       "      <td>0.050636</td>\n",
       "      <td>0.296802</td>\n",
       "      <td>0.148771</td>\n",
       "      <td>0.719983</td>\n",
       "      <td>0.294018</td>\n",
       "    </tr>\n",
       "    <tr>\n",
       "      <th>0.80</th>\n",
       "      <td>0.848</td>\n",
       "      <td>0.040200</td>\n",
       "      <td>0.269875</td>\n",
       "      <td>0.152383</td>\n",
       "      <td>0.743810</td>\n",
       "      <td>0.291604</td>\n",
       "    </tr>\n",
       "    <tr>\n",
       "      <th>0.85</th>\n",
       "      <td>0.858</td>\n",
       "      <td>0.042379</td>\n",
       "      <td>0.242779</td>\n",
       "      <td>0.165196</td>\n",
       "      <td>0.771115</td>\n",
       "      <td>0.285248</td>\n",
       "    </tr>\n",
       "    <tr>\n",
       "      <th>0.90</th>\n",
       "      <td>0.892</td>\n",
       "      <td>0.044000</td>\n",
       "      <td>0.207719</td>\n",
       "      <td>0.173577</td>\n",
       "      <td>0.804307</td>\n",
       "      <td>0.256673</td>\n",
       "    </tr>\n",
       "    <tr>\n",
       "      <th>0.95</th>\n",
       "      <td>0.926</td>\n",
       "      <td>0.018000</td>\n",
       "      <td>0.172631</td>\n",
       "      <td>0.161618</td>\n",
       "      <td>0.831021</td>\n",
       "      <td>0.236428</td>\n",
       "    </tr>\n",
       "  </tbody>\n",
       "</table>\n",
       "</div>"
      ],
      "text/plain": [
       "          0         1         2         3         4         5\n",
       "0.05  0.510  0.099700  0.504816  0.067652  0.498951  0.060627\n",
       "0.10  0.470  0.053852  0.497508  0.067198  0.507472  0.093925\n",
       "0.15  0.478  0.045122  0.492043  0.077470  0.509132  0.121349\n",
       "0.20  0.538  0.054736  0.483976  0.079624  0.529100  0.149325\n",
       "0.25  0.530  0.058138  0.469254  0.082300  0.538132  0.183277\n",
       "0.30  0.576  0.051225  0.463279  0.083025  0.556693  0.199668\n",
       "0.35  0.604  0.041761  0.449233  0.089443  0.562516  0.214536\n",
       "0.40  0.620  0.049800  0.437192  0.098789  0.573784  0.229918\n",
       "0.45  0.620  0.045607  0.424998  0.113331  0.580572  0.245151\n",
       "0.50  0.680  0.057966  0.407628  0.113583  0.609229  0.258133\n",
       "0.55  0.684  0.057827  0.386953  0.121222  0.627157  0.269813\n",
       "0.60  0.734  0.047371  0.375869  0.120349  0.641740  0.280826\n",
       "0.65  0.778  0.046861  0.348767  0.131334  0.664006  0.292834\n",
       "0.70  0.790  0.037148  0.326826  0.143247  0.692515  0.302109\n",
       "0.75  0.814  0.050636  0.296802  0.148771  0.719983  0.294018\n",
       "0.80  0.848  0.040200  0.269875  0.152383  0.743810  0.291604\n",
       "0.85  0.858  0.042379  0.242779  0.165196  0.771115  0.285248\n",
       "0.90  0.892  0.044000  0.207719  0.173577  0.804307  0.256673\n",
       "0.95  0.926  0.018000  0.172631  0.161618  0.831021  0.236428"
      ]
     },
     "execution_count": 8,
     "metadata": {},
     "output_type": "execute_result"
    }
   ],
   "source": [
    "pd.DataFrame.from_dict(dic, orient = 'index')"
   ]
  },
  {
   "cell_type": "code",
   "execution_count": 5,
   "metadata": {},
   "outputs": [],
   "source": [
    "lgr = LogisticRegression(max_iter = 10000, solver = \"saga\", n_jobs = -1)\n",
    "# train(10000, drop_NA_data, lgr, 0)"
   ]
  },
  {
   "cell_type": "code",
   "execution_count": 6,
   "metadata": {},
   "outputs": [],
   "source": [
    "# single feature\n",
    "sf_drop_NA_data = mini_data[[\"compound\", \"concentration\",\n",
    "                                \"moa\", \"row ID\", \"Iteration (#2)\", \"COND\",\n",
    "                               \"AreaShape_Area_Nuclei\"]]\n",
    "lgr = LogisticRegression(max_iter = 10000, solver = \"saga\", n_jobs = -1)\n",
    "# train(10000, sf_drop_NA_data, lgr, 0)"
   ]
  },
  {
   "cell_type": "code",
   "execution_count": null,
   "metadata": {},
   "outputs": [
    {
     "name": "stderr",
     "output_type": "stream",
     "text": [
      " 95%|█████████▍| 18/19 [52:49<03:13, 193.63s/it] "
     ]
    }
   ],
   "source": [
    "# cost one hour to train with datasize 500\n",
    "\n",
    "result1 = mini_noise_signal_cv(500, mini_data, \"taxol\", \"DMSO\", lgr, 10, 0)"
   ]
  },
  {
   "cell_type": "code",
   "execution_count": 7,
   "metadata": {},
   "outputs": [],
   "source": [
    "(mean_mean_accuracy, std_mean_accuracy, \n",
    " mean_pred_score_control, std_pred_score_control,\n",
    " mean_pred_score_treatment, std_pred_score_treatment) = result1"
   ]
  },
  {
   "cell_type": "code",
   "execution_count": 115,
   "metadata": {},
   "outputs": [],
   "source": [
    "mean_z_score_control = np.array(mean_pred_score_control)\n",
    "std_z_score_control = np.array(std_pred_score_control)\n",
    "mean_z_score_treatment = np.array(mean_pred_score_treatment)\n",
    "std_z_score_treatment = np.array(std_pred_score_treatment)"
   ]
  },
  {
   "cell_type": "code",
   "execution_count": 113,
   "metadata": {
    "collapsed": true,
    "jupyter": {
     "outputs_hidden": true
    }
   },
   "outputs": [
    {
     "data": {
      "text/plain": [
       "Text(0.5, 1.0, 'DMSO prediction score with change of %taxol')"
      ]
     },
     "execution_count": 113,
     "metadata": {},
     "output_type": "execute_result"
    },
    {
     "data": {
      "image/png": "[encoded data removed]",
      "text/plain": [
       "<Figure size 432x288 with 1 Axes>"
      ]
     },
     "metadata": {
      "needs_background": "light"
     },
     "output_type": "display_data"
    }
   ],
   "source": [
    "plt.plot([i/100 for i in range(5,96,5)], mean_z_score_control, '-')\n",
    "plt.fill_between([i/100 for i in range(5,96,5)], \n",
    "                 (mean_z_score_control)-std_z_score_control, mean_z_score_control+std_z_score_control, alpha=0.2)\n",
    "plt.title(\"DMSO prediction score with change of %taxol\")"
   ]
  },
  {
   "cell_type": "code",
   "execution_count": 121,
   "metadata": {
    "collapsed": true,
    "jupyter": {
     "outputs_hidden": true
    }
   },
   "outputs": [
    {
     "data": {
      "text/plain": [
       "Text(0.5, 1.0, 'taxol prediction score v.s. change of %taxol\\n minibatch with size 500, Logistic Regression')"
      ]
     },
     "execution_count": 121,
     "metadata": {},
     "output_type": "execute_result"
    },
    {
     "data": {
      "image/png": "[encoded data removed]",
      "text/plain": [
       "<Figure size 432x288 with 1 Axes>"
      ]
     },
     "metadata": {
      "needs_background": "light"
     },
     "output_type": "display_data"
    }
   ],
   "source": [
    "plt.plot([i/100 for i in range(5,96,5)], mean_z_score_treatment, '-')\n",
    "plt.fill_between([i/100 for i in range(5,96,5)], \n",
    "                 (mean_z_score_treatment)-std_z_score_treatment, mean_z_score_treatment + std_z_score_treatment, alpha=0.2)\n",
    "plt.title(\"taxol prediction score v.s. change of %taxol\\n minibatch with size 500, Logistic Regression\")\n"
   ]
  },
  {
   "cell_type": "markdown",
   "metadata": {},
   "source": [
    "## RF"
   ]
  },
  {
   "cell_type": "code",
   "execution_count": 10,
   "metadata": {},
   "outputs": [],
   "source": [
    "RF_model = KNeighborsClassifier(30)#RandomForestClassifier(min_samples_split=50, random_state=0)"
   ]
  },
  {
   "cell_type": "code",
   "execution_count": null,
   "metadata": {},
   "outputs": [
    {
     "name": "stderr",
     "output_type": "stream",
     "text": [
      " 11%|█         | 2/19 [08:09<1:09:19, 244.67s/it]"
     ]
    }
   ],
   "source": [
    "result1 = mini_noise_signal_cv(10000, drop_NA_data, \"taxol\", \"DMSO\", RF_model, 10, 0)"
   ]
  },
  {
   "cell_type": "code",
   "execution_count": 12,
   "metadata": {},
   "outputs": [
    {
     "name": "stdout",
     "output_type": "stream",
     "text": [
      "data loaded\n"
     ]
    },
    {
     "name": "stderr",
     "output_type": "stream",
     "text": [
      "K fold CV: 10it [00:56,  5.65s/it]\n",
      "K fold CV: 10it [00:57,  5.75s/it]\n",
      "K fold CV: 10it [00:55,  5.54s/it]\n",
      "K fold CV: 10it [00:55,  5.54s/it]\n",
      "K fold CV: 10it [00:55,  5.51s/it]\n",
      "K fold CV: 10it [00:54,  5.43s/it]\n",
      "K fold CV: 10it [00:54,  5.40s/it]\n",
      "K fold CV: 10it [00:53,  5.33s/it]\n",
      "K fold CV: 10it [00:52,  5.30s/it]\n",
      "K fold CV: 10it [00:53,  5.40s/it]\n",
      "K fold CV: 10it [00:54,  5.47s/it]\n",
      "K fold CV: 10it [00:53,  5.36s/it]\n",
      "K fold CV: 10it [00:52,  5.24s/it]\n",
      "K fold CV: 10it [00:52,  5.23s/it]\n",
      "K fold CV: 10it [00:50,  5.07s/it]\n",
      "K fold CV: 10it [00:51,  5.14s/it]\n",
      "K fold CV: 10it [00:50,  5.08s/it]\n",
      "K fold CV: 10it [00:50,  5.10s/it]\n",
      "K fold CV: 10it [00:48,  4.88s/it]\n"
     ]
    },
    {
     "data": {
      "image/png": "[encoded data removed]",
      "text/plain": [
       "<Figure size 1008x360 with 2 Axes>"
      ]
     },
     "metadata": {
      "needs_background": "light"
     },
     "output_type": "display_data"
    }
   ],
   "source": [
    "print(\"data loaded\")\n",
    "# train(10000, drop_NA_data, RF_model, 0)\n",
    "train(10000, drop_NA_data, RF_model, 0)"
   ]
  },
  {
   "cell_type": "code",
   "execution_count": null,
   "metadata": {},
   "outputs": [],
   "source": [
    "result1 = mini_noise_signal_cv(size, data, \"taxol\", \"DMSO\", model, 10, verbose, bag_perc)"
   ]
  },
  {
   "cell_type": "code",
   "execution_count": 14,
   "metadata": {},
   "outputs": [
    {
     "name": "stderr",
     "output_type": "stream",
     "text": [
      "100%|██████████| 19/19 [01:57<00:00,  6.20s/it]\n"
     ]
    }
   ],
   "source": [
    "result = mini_noise_signal_cv(500, mini_data, \"taxol\", \"DMSO\", RF_model, 10, 0) "
   ]
  },
  {
   "cell_type": "markdown",
   "metadata": {},
   "source": [
    "# Single features\n",
    "## Logistic Regression"
   ]
  },
  {
   "cell_type": "code",
   "execution_count": null,
   "metadata": {},
   "outputs": [],
   "source": [
    "\n",
    "#     mean_accuracy = np.array(mean_mean_accuracy)\n",
    "#     std_accuracy = np.array(std_mean_accuracy)\n",
    "#     mean_pred_score_control = np.array(mean_pred_score_control)\n",
    "#     std_pred_score_control = np.array(std_pred_score_control)\n",
    "#     mean_pred_score_treatment = np.array(mean_pred_score_treatment)\n",
    "#     std_pred_score_treatment = np.array(std_pred_score_treatment)\n",
    "    \n",
    "#     z_score = 1-3*(std_pred_score_control+std_pred_score_treatment)/(np.abs(mean_pred_score_control-mean_pred_score_treatment))\n",
    "    \n",
    "#     model_name = str(model).split(\"(\")[0]\n",
    "#     feature_size = len(data_label_split(data)[0].columns)\n",
    "    \n",
    "#     plt.figure(figsize=(14, 5))\n",
    "#     ax = plt.subplot(1,2,1)\n",
    "#     plt.plot([i/100 for i in range(5,96,5)], mean_accuracy, '-')\n",
    "#     plt.fill_between([i/100 for i in range(5,96,5)], \n",
    "#                      (mean_accuracy)-std_accuracy, mean_accuracy+std_accuracy, alpha=0.2)\n",
    "#     ax.set_title(\"Accuracy score of %s, %s cells, %s features\"%(model_name, 500, feature_size))\n",
    "\n",
    "#     ax = plt.subplot(1,2,2)\n",
    "#     plt.plot([i/100 for i in range(5,96,5)], z_score, '-')\n",
    "#     ax.set_title(\"Z_score of %s, %s cells, %s features\"%(model_name, 500, feature_size))\n",
    "\n",
    "#     plt.savefig(\"%s_sample%s_feature%s.png\" %(model_name, size, feature_size))"
   ]
  },
  {
   "cell_type": "markdown",
   "metadata": {},
   "source": [
    "# Old"
   ]
  },
  {
   "cell_type": "code",
   "execution_count": 87,
   "metadata": {},
   "outputs": [],
   "source": [
    "def mini_noise_signal(size, data, treatment, control, model):\n",
    "    p_acc=[]\n",
    "    n_acc=[]\n",
    "    for i in range(5,96,5):\n",
    "        mini_batch = generate_data_set(size, i/100, data, \"taxol\", \"DMSO\")\n",
    "        X, y = data_label_split(mini_batch)\n",
    "        y=y['compound']\n",
    "        model.fit(X, y)\n",
    "        y_pred = model.predict(X)\n",
    "        cm = confusion_matrix(y,y_pred)\n",
    "        cm = cm.astype('float') / cm.sum(axis=1)[:, np.newaxis]\n",
    "        n_acc.append(cm.diagonal()[0])\n",
    "        p_acc.append(cm.diagonal()[1])\n",
    "    return p_acc, n_acc"
   ]
  },
  {
   "cell_type": "code",
   "execution_count": 88,
   "metadata": {},
   "outputs": [],
   "source": [
    "clf = RandomForestClassifier(min_samples_split=50, random_state=0)"
   ]
  },
  {
   "cell_type": "code",
   "execution_count": 89,
   "metadata": {},
   "outputs": [],
   "source": [
    "p_, n_ = mini_noise_signal(1000, drop_NA_data, \"taxol\", \"DMSO\", clf)"
   ]
  },
  {
   "cell_type": "code",
   "execution_count": 93,
   "metadata": {},
   "outputs": [
    {
     "data": {
      "text/plain": [
       "[<matplotlib.lines.Line2D at 0x7fc66aeea410>]"
      ]
     },
     "execution_count": 93,
     "metadata": {},
     "output_type": "execute_result"
    },
    {
     "data": {
      "image/png": "[encoded data removed]",
      "text/plain": [
       "<Figure size 432x288 with 1 Axes>"
      ]
     },
     "metadata": {
      "needs_background": "light"
     },
     "output_type": "display_data"
    }
   ],
   "source": [
    "plt.plot(n_)"
   ]
  },
  {
   "cell_type": "code",
   "execution_count": 74,
   "metadata": {},
   "outputs": [],
   "source": [
    "p_acc=[]\n",
    "n_acc=[]\n",
    "for i in range(5,96,5):\n",
    "    mini_batch = generate_data_set(1000, i/100, drop_NA_data, \"taxol\", \"DMSO\")\n",
    "    X, y = data_label_split(mini_batch)\n",
    "    y=y['compound']\n",
    "    \n",
    "    clf = LogisticRegression(max_iter = 10000, solver = \"saga\")\n",
    "    clf.fit(X, y)\n",
    "    y_pred = clf.predict(X)\n",
    "    cm = confusion_matrix(y,y_pred )\n",
    "    cm = cm.astype('float') / cm.sum(axis=1)[:, np.newaxis]\n",
    "    n_acc.append(cm.diagonal()[0])\n",
    "    p_acc.append(cm.diagonal()[1])"
   ]
  },
  {
   "cell_type": "code",
   "execution_count": 78,
   "metadata": {},
   "outputs": [
    {
     "data": {
      "text/plain": [
       "[<matplotlib.lines.Line2D at 0x7fc66a222510>]"
      ]
     },
     "execution_count": 78,
     "metadata": {},
     "output_type": "execute_result"
    },
    {
     "data": {
      "image/png": "[encoded data removed]",
      "text/plain": [
       "<Figure size 432x288 with 1 Axes>"
      ]
     },
     "metadata": {
      "needs_background": "light"
     },
     "output_type": "display_data"
    }
   ],
   "source": [
    "plt.plot(n_acc)"
   ]
  },
  {
   "cell_type": "code",
   "execution_count": 63,
   "metadata": {},
   "outputs": [],
   "source": [
    "\n",
    "mini_batch = generate_data_set(100, 0.5, drop_NA_data, \"taxol\", \"DMSO\")\n",
    "X, y = data_label_split(mini_batch)\n",
    "lb = LabelEncoder()\n",
    "# y = lb.fit_transform(y['compound'])\n",
    "y=y['compound']"
   ]
  },
  {
   "cell_type": "code",
   "execution_count": 64,
   "metadata": {},
   "outputs": [],
   "source": [
    "clf = LogisticRegression(max_iter = 10000, solver = \"saga\")\n",
    "clf.fit(X, y)\n",
    "y_pred = clf.predict(X)"
   ]
  },
  {
   "cell_type": "code",
   "execution_count": 65,
   "metadata": {},
   "outputs": [],
   "source": [
    "cm = confusion_matrix(y,y_pred )"
   ]
  },
  {
   "cell_type": "code",
   "execution_count": 66,
   "metadata": {},
   "outputs": [],
   "source": [
    "cm = cm.astype('float') / cm.sum(axis=1)[:, np.newaxis]"
   ]
  },
  {
   "cell_type": "code",
   "execution_count": 73,
   "metadata": {},
   "outputs": [
    {
     "data": {
      "text/plain": [
       "0.88"
      ]
     },
     "execution_count": 73,
     "metadata": {},
     "output_type": "execute_result"
    }
   ],
   "source": [
    "cm.diagonal()[0]"
   ]
  },
  {
   "cell_type": "code",
   "execution_count": 68,
   "metadata": {},
   "outputs": [
    {
     "data": {
      "text/plain": [
       "array([[44,  6],\n",
       "       [ 2, 48]])"
      ]
     },
     "execution_count": 68,
     "metadata": {},
     "output_type": "execute_result"
    }
   ],
   "source": [
    "confusion_matrix(y,y_pred )"
   ]
  },
  {
   "cell_type": "code",
   "execution_count": 112,
   "metadata": {},
   "outputs": [
    {
     "data": {
      "text/plain": [
       "Text(0.5, 0, 'percent of taxol')"
      ]
     },
     "execution_count": 112,
     "metadata": {},
     "output_type": "execute_result"
    },
    {
     "data": {
      "image/png": "[encoded data removed]",
      "text/plain": [
       "<Figure size 576x576 with 2 Axes>"
      ]
     },
     "metadata": {
      "needs_background": "light"
     },
     "output_type": "display_data"
    }
   ],
   "source": [
    "fig, ax = plt.subplots(2, sharex=True, sharey=True,figsize=(8, 8))\n",
    "l1 = ax[0].plot([i/100 for i in range(5,96,5)], n_acc, color = 'b', label = \"Logistic Regression\")\n",
    "l2 = ax[0].plot([i/100 for i in range(5,96,5)], n_, color = 'r', label = \"Random Forest\")\n",
    "ax[0].legend()\n",
    "ax[0].title.set_text(\"Taxol accuracy\")\n",
    "ax[0].set_xlabel('percent of taxol')\n",
    "l3 = ax[1].plot([i/100 for i in range(5,96,5)], p_acc, color = 'b',label = \"Logistic Regression\")\n",
    "l4 = ax[1].plot([i/100 for i in range(5,96,5)], p_, color = 'r',label = \"Logistic Regression\")\n",
    "ax[1].legend()\n",
    "ax[1].title.set_text(\"DMSO accuracy\")\n",
    "ax[1].set_xlabel('percent of taxol')"
   ]
  },
  {
   "cell_type": "code",
   "execution_count": null,
   "metadata": {},
   "outputs": [],
   "source": []
  }
 ],
 "metadata": {
  "kernelspec": {
   "display_name": "py3.8",
   "language": "python",
   "name": "py3.8"
  },
  "language_info": {
   "codemirror_mode": {
    "name": "ipython",
    "version": 3
   },
   "file_extension": ".py",
   "mimetype": "text/x-python",
   "name": "python",
   "nbconvert_exporter": "python",
   "pygments_lexer": "ipython3",
   "version": "3.8.12"
  }
 },
 "nbformat": 4,
 "nbformat_minor": 4
}
