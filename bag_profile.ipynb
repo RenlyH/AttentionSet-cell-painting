{
 "cells": [
  {
   "cell_type": "code",
   "execution_count": 1,
   "metadata": {},
   "outputs": [],
   "source": [
    "import matplotlib.pyplot as plt\n",
    "import numpy as np\n",
    "import pandas as pd\n",
    "import pandas\n",
    "from tqdm.notebook import tqdm\n",
    "\n",
    "from data_loader import data_label_split\n",
    "from data_loader import generate_data_set\n",
    "from data_loader import dmso_taxol_ProfileBag, data_standardization\n",
    "\n",
    "from set_experiment import mini_noise_signal_cv\n",
    "from set_experiment import train\n",
    "from set_experiment import test\n",
    "\n",
    "from model import SmallDeepSet\n",
    "from model import FullDeepSet, profile_AttSet\n",
    "\n",
    "from sklearn.model_selection import StratifiedKFold\n",
    "from sklearn.preprocessing import LabelEncoder\n",
    "from sklearn.metrics import confusion_matrix\n",
    "from sklearn.preprocessing import normalize\n",
    "\n",
    "import torch\n",
    "import torch.utils.data as D \n",
    "import torch.nn as nn\n",
    "from torch.autograd import Variable\n",
    "import torch.optim as optim"
   ]
  },
  {
   "cell_type": "code",
   "execution_count": 2,
   "metadata": {},
   "outputs": [],
   "source": [
    "drop_NA_data = pd.read_csv(\"moa_data_drop_NA.csv\", index_col=0)\n",
    "sf_drop_NA_data = drop_NA_data[[\"compound\", \"concentration\",\n",
    "                                \"moa\", \"row ID\", \"Iteration (#2)\", \"COND\",\n",
    "                               \"AreaShape_Area_Nuclei\", \"AreaShape_Compactness_Nuclei\"]]"
   ]
  },
  {
   "cell_type": "code",
   "execution_count": 3,
   "metadata": {},
   "outputs": [],
   "source": [
    "mini_data = pd.read_csv(\"mini_moa_data_drop_NA.csv\",index_col=0)\n",
    "# sf_drop_NA_data = mini_data[[\"compound\", \"concentration\",\n",
    "#                                 \"moa\", \"row ID\", \"Iteration (#2)\", \"COND\",\n",
    "#                                \"AreaShape_Area_Nuclei\", \"AreaShape_Compactness_Nuclei\"]]"
   ]
  },
  {
   "cell_type": "code",
   "execution_count": 3,
   "metadata": {},
   "outputs": [],
   "source": [
    "\n",
    "# bagData = dmso_taxol_ProfileBag(sf_drop_NA_data, 200, 50, 5, 0.5, \"taxol\", \"DMSO\", 0.5)\n",
    "# dataloader = D.DataLoader(bagData, batch_size=1, shuffle=True)"
   ]
  },
  {
   "cell_type": "code",
   "execution_count": 5,
   "metadata": {},
   "outputs": [],
   "source": [
    "# data = sf_drop_NA_data\n",
    "# num_bag = 10\n",
    "# bag_size_mean = 10\n",
    "# bag_size_std = 0\n",
    "# treatment = \"taxol\" \n",
    "# control = \"DMSO\"\n",
    "# model = sf_deepset\n",
    "# optimizer = optimizer\n",
    "# splits = 4\n",
    "# epochs = 1"
   ]
  },
  {
   "cell_type": "markdown",
   "metadata": {},
   "source": [
    "# Deep Set Model"
   ]
  },
  {
   "cell_type": "code",
   "execution_count": 5,
   "metadata": {},
   "outputs": [],
   "source": [
    "full_deepset = FullDeepSet(481)#.cuda()"
   ]
  },
  {
   "cell_type": "code",
   "execution_count": 6,
   "metadata": {},
   "outputs": [],
   "source": [
    "sf_deepset = SmallDeepSet(481)#.cuda()"
   ]
  },
  {
   "cell_type": "code",
   "execution_count": 8,
   "metadata": {},
   "outputs": [],
   "source": [
    "start = 90\n",
    "end = 91\n",
    "data = mini_data\n",
    "num_bag = 60\n",
    "bag_size_mean = 200\n",
    "bag_size_std = 10\n",
    "treatment = \"taxol\"\n",
    "control = \"DMSO\"\n",
    "batch_size = 8\n",
    "model = profile_AttSet(481).cuda()#FullDeepSet(\"mean\").cuda()\n",
    "splits = 3\n",
    "epochs = 10"
   ]
  },
  {
   "cell_type": "code",
   "execution_count": 5,
   "metadata": {},
   "outputs": [
    {
     "name": "stdout",
     "output_type": "stream",
     "text": [
      "41,594 total parameters.\n",
      "41,594 training parameters.\n"
     ]
    }
   ],
   "source": [
    "total_params = sum(p.numel() for p in model.parameters())\n",
    "print(f'{total_params:,} total parameters.')\n",
    "total_trainable_params = sum(\n",
    "    p.numel() for p in model.parameters() if p.requires_grad)\n",
    "print(f'{total_trainable_params:,} training parameters.')\n",
    "\n"
   ]
  },
  {
   "cell_type": "code",
   "execution_count": 9,
   "metadata": {},
   "outputs": [],
   "source": [
    "optimizer = optim.Adam(model.parameters(), lr=0.0005, betas=(0.9, 0.999), weight_decay=10e-5)"
   ]
  },
  {
   "cell_type": "code",
   "execution_count": 10,
   "metadata": {},
   "outputs": [
    {
     "name": "stderr",
     "output_type": "stream",
     "text": [
      "training at different percent:   0%|          | 0/1 [00:00<?, ?it/s]\n",
      "3 fold cross validation: 0it [00:00, ?it/s]\u001b[A"
     ]
    },
    {
     "name": "stdout",
     "output_type": "stream",
     "text": [
      "Epoch: 0, Loss: 0.3519, Train error: 0.0125\n",
      "At 0th fold testing: "
     ]
    },
    {
     "name": "stderr",
     "output_type": "stream",
     "text": [
      "\n",
      "3 fold cross validation: 1it [00:18, 18.19s/it]\u001b[A"
     ]
    },
    {
     "name": "stdout",
     "output_type": "stream",
     "text": [
      "Control accuracy:1.000, Treat accuracy:1.000, overally accuray:1.000\n",
      "Epoch: 0, Loss: 0.0000, Train error: 0.0000\n",
      "At 1th fold testing: "
     ]
    },
    {
     "name": "stderr",
     "output_type": "stream",
     "text": [
      "\n",
      "3 fold cross validation: 2it [00:35, 17.89s/it]\u001b[A"
     ]
    },
    {
     "name": "stdout",
     "output_type": "stream",
     "text": [
      "Control accuracy:1.000, Treat accuracy:1.000, overally accuray:1.000\n",
      "Epoch: 0, Loss: 0.0000, Train error: 0.0000\n",
      "At 2th fold testing: "
     ]
    },
    {
     "name": "stderr",
     "output_type": "stream",
     "text": [
      "\n",
      "3 fold cross validation: 3it [00:53, 17.99s/it]\u001b[A\n",
      "training at different percent:   0%|          | 0/1 [00:54<?, ?it/s]"
     ]
    },
    {
     "name": "stdout",
     "output_type": "stream",
     "text": [
      "Control accuracy:1.000, Treat accuracy:1.000, overally accuray:1.000\n"
     ]
    },
    {
     "name": "stderr",
     "output_type": "stream",
     "text": [
      "\n"
     ]
    }
   ],
   "source": [
    "results = mini_noise_signal_cv(start, end, data, num_bag,\n",
    "                               bag_size_mean, bag_size_std, treatment, control, \n",
    "                               batch_size, model, optimizer, splits, epochs)"
   ]
  },
  {
   "cell_type": "code",
   "execution_count": null,
   "metadata": {
    "collapsed": true,
    "jupyter": {
     "outputs_hidden": true
    }
   },
   "outputs": [
    {
     "data": {
      "application/vnd.jupyter.widget-view+json": {
       "model_id": "234f401ab79e4396a830969f63907cc3",
       "version_major": 2,
       "version_minor": 0
      },
      "text/plain": [
       "HBox(children=(FloatProgress(value=0.0, description='training at different percent', max=19.0, style=ProgressS…"
      ]
     },
     "metadata": {},
     "output_type": "display_data"
    },
    {
     "data": {
      "application/vnd.jupyter.widget-view+json": {
       "model_id": "0c0ae8c3ffe941c78d5dccd91331eea6",
       "version_major": 2,
       "version_minor": 0
      },
      "text/plain": [
       "HBox(children=(FloatProgress(value=1.0, bar_style='info', description='5 fold cross validation', max=1.0, styl…"
      ]
     },
     "metadata": {},
     "output_type": "display_data"
    },
    {
     "data": {
      "application/vnd.jupyter.widget-view+json": {
       "model_id": "f7849a3856d64ac78aacf742fabf26d1",
       "version_major": 2,
       "version_minor": 0
      },
      "text/plain": [
       "HBox(children=(FloatProgress(value=1.0, bar_style='info', description='For 2 epoch', max=1.0, style=ProgressSt…"
      ]
     },
     "metadata": {},
     "output_type": "display_data"
    },
    {
     "name": "stdout",
     "output_type": "stream",
     "text": [
      "\n"
     ]
    },
    {
     "data": {
      "application/vnd.jupyter.widget-view+json": {
       "model_id": "7d152b266a8d41d18b0804ab2b0fdd49",
       "version_major": 2,
       "version_minor": 0
      },
      "text/plain": [
       "HBox(children=(FloatProgress(value=1.0, bar_style='info', description='For 2 epoch', max=1.0, style=ProgressSt…"
      ]
     },
     "metadata": {},
     "output_type": "display_data"
    },
    {
     "name": "stdout",
     "output_type": "stream",
     "text": [
      "\n"
     ]
    },
    {
     "data": {
      "application/vnd.jupyter.widget-view+json": {
       "model_id": "4b916def90b0488591034c3cedfa9bf2",
       "version_major": 2,
       "version_minor": 0
      },
      "text/plain": [
       "HBox(children=(FloatProgress(value=1.0, bar_style='info', description='For 2 epoch', max=1.0, style=ProgressSt…"
      ]
     },
     "metadata": {},
     "output_type": "display_data"
    },
    {
     "name": "stdout",
     "output_type": "stream",
     "text": [
      "\n"
     ]
    },
    {
     "data": {
      "application/vnd.jupyter.widget-view+json": {
       "model_id": "5b164dcc35d8439db32c8df03865e3ce",
       "version_major": 2,
       "version_minor": 0
      },
      "text/plain": [
       "HBox(children=(FloatProgress(value=1.0, bar_style='info', description='For 2 epoch', max=1.0, style=ProgressSt…"
      ]
     },
     "metadata": {},
     "output_type": "display_data"
    },
    {
     "name": "stdout",
     "output_type": "stream",
     "text": [
      "\n"
     ]
    },
    {
     "data": {
      "application/vnd.jupyter.widget-view+json": {
       "model_id": "3353d50878e342149a2691b9e440d9b9",
       "version_major": 2,
       "version_minor": 0
      },
      "text/plain": [
       "HBox(children=(FloatProgress(value=1.0, bar_style='info', description='For 2 epoch', max=1.0, style=ProgressSt…"
      ]
     },
     "metadata": {},
     "output_type": "display_data"
    },
    {
     "name": "stdout",
     "output_type": "stream",
     "text": [
      "\n",
      "\n"
     ]
    },
    {
     "data": {
      "application/vnd.jupyter.widget-view+json": {
       "model_id": "31d3844e7d8541ad91623ae87cb976a5",
       "version_major": 2,
       "version_minor": 0
      },
      "text/plain": [
       "HBox(children=(FloatProgress(value=1.0, bar_style='info', description='5 fold cross validation', max=1.0, styl…"
      ]
     },
     "metadata": {},
     "output_type": "display_data"
    },
    {
     "data": {
      "application/vnd.jupyter.widget-view+json": {
       "model_id": "05ba4ea82d01492394558a1562d759fd",
       "version_major": 2,
       "version_minor": 0
      },
      "text/plain": [
       "HBox(children=(FloatProgress(value=1.0, bar_style='info', description='For 2 epoch', max=1.0, style=ProgressSt…"
      ]
     },
     "metadata": {},
     "output_type": "display_data"
    },
    {
     "name": "stdout",
     "output_type": "stream",
     "text": [
      "\n"
     ]
    },
    {
     "data": {
      "application/vnd.jupyter.widget-view+json": {
       "model_id": "19360d59f88b4d34b686d21ad286b4ef",
       "version_major": 2,
       "version_minor": 0
      },
      "text/plain": [
       "HBox(children=(FloatProgress(value=1.0, bar_style='info', description='For 2 epoch', max=1.0, style=ProgressSt…"
      ]
     },
     "metadata": {},
     "output_type": "display_data"
    },
    {
     "name": "stdout",
     "output_type": "stream",
     "text": [
      "\n"
     ]
    },
    {
     "data": {
      "application/vnd.jupyter.widget-view+json": {
       "model_id": "5293f1b2fdd942a18252541f284e154e",
       "version_major": 2,
       "version_minor": 0
      },
      "text/plain": [
       "HBox(children=(FloatProgress(value=1.0, bar_style='info', description='For 2 epoch', max=1.0, style=ProgressSt…"
      ]
     },
     "metadata": {},
     "output_type": "display_data"
    },
    {
     "name": "stdout",
     "output_type": "stream",
     "text": [
      "\n"
     ]
    },
    {
     "data": {
      "application/vnd.jupyter.widget-view+json": {
       "model_id": "3b7e872ce26b46e09dd0d5331adcf561",
       "version_major": 2,
       "version_minor": 0
      },
      "text/plain": [
       "HBox(children=(FloatProgress(value=1.0, bar_style='info', description='For 2 epoch', max=1.0, style=ProgressSt…"
      ]
     },
     "metadata": {},
     "output_type": "display_data"
    },
    {
     "name": "stdout",
     "output_type": "stream",
     "text": [
      "\n"
     ]
    },
    {
     "data": {
      "application/vnd.jupyter.widget-view+json": {
       "model_id": "36187fcb9a9b4ac5a6a0309f83c2029f",
       "version_major": 2,
       "version_minor": 0
      },
      "text/plain": [
       "HBox(children=(FloatProgress(value=1.0, bar_style='info', description='For 2 epoch', max=1.0, style=ProgressSt…"
      ]
     },
     "metadata": {},
     "output_type": "display_data"
    },
    {
     "name": "stdout",
     "output_type": "stream",
     "text": [
      "\n",
      "\n"
     ]
    },
    {
     "data": {
      "application/vnd.jupyter.widget-view+json": {
       "model_id": "f76f2bf4eecd401db1f479960cff84a6",
       "version_major": 2,
       "version_minor": 0
      },
      "text/plain": [
       "HBox(children=(FloatProgress(value=1.0, bar_style='info', description='5 fold cross validation', max=1.0, styl…"
      ]
     },
     "metadata": {},
     "output_type": "display_data"
    },
    {
     "data": {
      "application/vnd.jupyter.widget-view+json": {
       "model_id": "7fca59d238304622bd051843b2344e2d",
       "version_major": 2,
       "version_minor": 0
      },
      "text/plain": [
       "HBox(children=(FloatProgress(value=1.0, bar_style='info', description='For 2 epoch', max=1.0, style=ProgressSt…"
      ]
     },
     "metadata": {},
     "output_type": "display_data"
    },
    {
     "name": "stdout",
     "output_type": "stream",
     "text": [
      "\n"
     ]
    },
    {
     "data": {
      "application/vnd.jupyter.widget-view+json": {
       "model_id": "5eace12d3a0a44688071fad21029eed7",
       "version_major": 2,
       "version_minor": 0
      },
      "text/plain": [
       "HBox(children=(FloatProgress(value=1.0, bar_style='info', description='For 2 epoch', max=1.0, style=ProgressSt…"
      ]
     },
     "metadata": {},
     "output_type": "display_data"
    },
    {
     "name": "stdout",
     "output_type": "stream",
     "text": [
      "\n"
     ]
    },
    {
     "data": {
      "application/vnd.jupyter.widget-view+json": {
       "model_id": "d3a493ee247d4edc9834bde997915ae5",
       "version_major": 2,
       "version_minor": 0
      },
      "text/plain": [
       "HBox(children=(FloatProgress(value=1.0, bar_style='info', description='For 2 epoch', max=1.0, style=ProgressSt…"
      ]
     },
     "metadata": {},
     "output_type": "display_data"
    },
    {
     "name": "stdout",
     "output_type": "stream",
     "text": [
      "\n"
     ]
    },
    {
     "data": {
      "application/vnd.jupyter.widget-view+json": {
       "model_id": "2e58a8fa3b8e48c8a4baaa078934f699",
       "version_major": 2,
       "version_minor": 0
      },
      "text/plain": [
       "HBox(children=(FloatProgress(value=1.0, bar_style='info', description='For 2 epoch', max=1.0, style=ProgressSt…"
      ]
     },
     "metadata": {},
     "output_type": "display_data"
    },
    {
     "name": "stdout",
     "output_type": "stream",
     "text": [
      "\n"
     ]
    },
    {
     "data": {
      "application/vnd.jupyter.widget-view+json": {
       "model_id": "267a8df5c4d040168bd1398596121843",
       "version_major": 2,
       "version_minor": 0
      },
      "text/plain": [
       "HBox(children=(FloatProgress(value=1.0, bar_style='info', description='For 2 epoch', max=1.0, style=ProgressSt…"
      ]
     },
     "metadata": {},
     "output_type": "display_data"
    },
    {
     "name": "stdout",
     "output_type": "stream",
     "text": [
      "\n",
      "\n"
     ]
    },
    {
     "data": {
      "application/vnd.jupyter.widget-view+json": {
       "model_id": "3e8e92e579bd4012808904f2241a4cd1",
       "version_major": 2,
       "version_minor": 0
      },
      "text/plain": [
       "HBox(children=(FloatProgress(value=1.0, bar_style='info', description='5 fold cross validation', max=1.0, styl…"
      ]
     },
     "metadata": {},
     "output_type": "display_data"
    },
    {
     "data": {
      "application/vnd.jupyter.widget-view+json": {
       "model_id": "42ef9d1fe1ca42059df5d97590f5d7f7",
       "version_major": 2,
       "version_minor": 0
      },
      "text/plain": [
       "HBox(children=(FloatProgress(value=1.0, bar_style='info', description='For 2 epoch', max=1.0, style=ProgressSt…"
      ]
     },
     "metadata": {},
     "output_type": "display_data"
    },
    {
     "name": "stdout",
     "output_type": "stream",
     "text": [
      "\n"
     ]
    },
    {
     "data": {
      "application/vnd.jupyter.widget-view+json": {
       "model_id": "8c17e02c25f749f9ab8a36475b81081d",
       "version_major": 2,
       "version_minor": 0
      },
      "text/plain": [
       "HBox(children=(FloatProgress(value=1.0, bar_style='info', description='For 2 epoch', max=1.0, style=ProgressSt…"
      ]
     },
     "metadata": {},
     "output_type": "display_data"
    },
    {
     "name": "stdout",
     "output_type": "stream",
     "text": [
      "\n"
     ]
    },
    {
     "data": {
      "application/vnd.jupyter.widget-view+json": {
       "model_id": "f7fd8670ce294385b244f716eeaeb28e",
       "version_major": 2,
       "version_minor": 0
      },
      "text/plain": [
       "HBox(children=(FloatProgress(value=1.0, bar_style='info', description='For 2 epoch', max=1.0, style=ProgressSt…"
      ]
     },
     "metadata": {},
     "output_type": "display_data"
    },
    {
     "name": "stdout",
     "output_type": "stream",
     "text": [
      "\n"
     ]
    },
    {
     "data": {
      "application/vnd.jupyter.widget-view+json": {
       "model_id": "d6b8cd91d34b403eba64b39b45a89cb3",
       "version_major": 2,
       "version_minor": 0
      },
      "text/plain": [
       "HBox(children=(FloatProgress(value=1.0, bar_style='info', description='For 2 epoch', max=1.0, style=ProgressSt…"
      ]
     },
     "metadata": {},
     "output_type": "display_data"
    },
    {
     "name": "stdout",
     "output_type": "stream",
     "text": [
      "\n"
     ]
    },
    {
     "data": {
      "application/vnd.jupyter.widget-view+json": {
       "model_id": "931cf3fca66345dab01196a873054a35",
       "version_major": 2,
       "version_minor": 0
      },
      "text/plain": [
       "HBox(children=(FloatProgress(value=1.0, bar_style='info', description='For 2 epoch', max=1.0, style=ProgressSt…"
      ]
     },
     "metadata": {},
     "output_type": "display_data"
    },
    {
     "name": "stdout",
     "output_type": "stream",
     "text": [
      "\n",
      "\n"
     ]
    },
    {
     "data": {
      "application/vnd.jupyter.widget-view+json": {
       "model_id": "0a5b9bcbd4d345a0b303ce80e426ab76",
       "version_major": 2,
       "version_minor": 0
      },
      "text/plain": [
       "HBox(children=(FloatProgress(value=1.0, bar_style='info', description='5 fold cross validation', max=1.0, styl…"
      ]
     },
     "metadata": {},
     "output_type": "display_data"
    },
    {
     "data": {
      "application/vnd.jupyter.widget-view+json": {
       "model_id": "a343de71d68f4111ab7d6cd1103b969e",
       "version_major": 2,
       "version_minor": 0
      },
      "text/plain": [
       "HBox(children=(FloatProgress(value=1.0, bar_style='info', description='For 2 epoch', max=1.0, style=ProgressSt…"
      ]
     },
     "metadata": {},
     "output_type": "display_data"
    },
    {
     "name": "stdout",
     "output_type": "stream",
     "text": [
      "\n"
     ]
    },
    {
     "data": {
      "application/vnd.jupyter.widget-view+json": {
       "model_id": "c05091f6a749419096435ede8a486425",
       "version_major": 2,
       "version_minor": 0
      },
      "text/plain": [
       "HBox(children=(FloatProgress(value=1.0, bar_style='info', description='For 2 epoch', max=1.0, style=ProgressSt…"
      ]
     },
     "metadata": {},
     "output_type": "display_data"
    },
    {
     "name": "stdout",
     "output_type": "stream",
     "text": [
      "\n"
     ]
    },
    {
     "data": {
      "application/vnd.jupyter.widget-view+json": {
       "model_id": "667a81db1e7e45928fbda1190f02f0d4",
       "version_major": 2,
       "version_minor": 0
      },
      "text/plain": [
       "HBox(children=(FloatProgress(value=1.0, bar_style='info', description='For 2 epoch', max=1.0, style=ProgressSt…"
      ]
     },
     "metadata": {},
     "output_type": "display_data"
    },
    {
     "data": {
      "application/vnd.jupyter.widget-view+json": {
       "model_id": "7071d73ececd4db4b5e7916b8ec3b521",
       "version_major": 2,
       "version_minor": 0
      },
      "text/plain": [
       "HBox(children=(FloatProgress(value=1.0, bar_style='info', description='For 2 epoch', max=1.0, style=ProgressSt…"
      ]
     },
     "metadata": {},
     "output_type": "display_data"
    },
    {
     "name": "stdout",
     "output_type": "stream",
     "text": [
      "\n"
     ]
    },
    {
     "data": {
      "application/vnd.jupyter.widget-view+json": {
       "model_id": "a840d3806546408cb49bafe38f55a8f4",
       "version_major": 2,
       "version_minor": 0
      },
      "text/plain": [
       "HBox(children=(FloatProgress(value=1.0, bar_style='info', description='For 2 epoch', max=1.0, style=ProgressSt…"
      ]
     },
     "metadata": {},
     "output_type": "display_data"
    },
    {
     "name": "stdout",
     "output_type": "stream",
     "text": [
      "\n",
      "\n"
     ]
    },
    {
     "data": {
      "application/vnd.jupyter.widget-view+json": {
       "model_id": "2606edaefed7425f8d000a03f4dc94e3",
       "version_major": 2,
       "version_minor": 0
      },
      "text/plain": [
       "HBox(children=(FloatProgress(value=1.0, bar_style='info', description='5 fold cross validation', max=1.0, styl…"
      ]
     },
     "metadata": {},
     "output_type": "display_data"
    },
    {
     "data": {
      "application/vnd.jupyter.widget-view+json": {
       "model_id": "a6897b47d2b14b41b19b6819d0e2c01c",
       "version_major": 2,
       "version_minor": 0
      },
      "text/plain": [
       "HBox(children=(FloatProgress(value=1.0, bar_style='info', description='For 2 epoch', max=1.0, style=ProgressSt…"
      ]
     },
     "metadata": {},
     "output_type": "display_data"
    },
    {
     "name": "stdout",
     "output_type": "stream",
     "text": [
      "\n"
     ]
    },
    {
     "data": {
      "application/vnd.jupyter.widget-view+json": {
       "model_id": "884e8124852b442c9dfa90e83389993d",
       "version_major": 2,
       "version_minor": 0
      },
      "text/plain": [
       "HBox(children=(FloatProgress(value=1.0, bar_style='info', description='For 2 epoch', max=1.0, style=ProgressSt…"
      ]
     },
     "metadata": {},
     "output_type": "display_data"
    },
    {
     "name": "stdout",
     "output_type": "stream",
     "text": [
      "\n"
     ]
    },
    {
     "data": {
      "application/vnd.jupyter.widget-view+json": {
       "model_id": "61b334a6e4424372b67dc0ca74e8b8ae",
       "version_major": 2,
       "version_minor": 0
      },
      "text/plain": [
       "HBox(children=(FloatProgress(value=1.0, bar_style='info', description='For 2 epoch', max=1.0, style=ProgressSt…"
      ]
     },
     "metadata": {},
     "output_type": "display_data"
    },
    {
     "name": "stdout",
     "output_type": "stream",
     "text": [
      "\n"
     ]
    },
    {
     "data": {
      "application/vnd.jupyter.widget-view+json": {
       "model_id": "c3e58b6e68bf479f859665fc702d5f11",
       "version_major": 2,
       "version_minor": 0
      },
      "text/plain": [
       "HBox(children=(FloatProgress(value=1.0, bar_style='info', description='For 2 epoch', max=1.0, style=ProgressSt…"
      ]
     },
     "metadata": {},
     "output_type": "display_data"
    }
   ],
   "source": [
    "sf_results = mini_noise_signal_cv(start = 90,\n",
    "                                  end = 91,\n",
    "                                  data = sf_drop_NA_data, \n",
    "                                  num_bag = 50,\n",
    "                                  bag_size_mean = 200, \n",
    "                                  bag_size_std = 10, \n",
    "                                  treatment = \"taxol\", \n",
    "                                  control = \"DMSO\", \n",
    "                                  model = sf_deepset, \n",
    "                                  optimizer = optimizer,\n",
    "                                  splits = 5,\n",
    "                                  epochs = 2)"
   ]
  },
  {
   "cell_type": "code",
   "execution_count": null,
   "metadata": {},
   "outputs": [],
   "source": [
    "sf_results"
   ]
  },
  {
   "cell_type": "code",
   "execution_count": 246,
   "metadata": {},
   "outputs": [],
   "source": [
    "acc_control, acc_treat, pred_score_control, pred_score_treat = test(sf_deepset, dataloader)"
   ]
  },
  {
   "cell_type": "code",
   "execution_count": 29,
   "metadata": {},
   "outputs": [],
   "source": [
    "(mean_control_accuracy, std_control_accuracy, \n",
    "            mean_treat_accuracy, std_treat_accuracy, \n",
    "            mean_pred_score_control, std_pred_score_control,\n",
    "            mean_pred_score_treatment, std_pred_score_treatment) = sf_results"
   ]
  },
  {
   "cell_type": "code",
   "execution_count": null,
   "metadata": {},
   "outputs": [],
   "source": [
    "dict = {'control_accuracy': nme, 'std_control_accuracy': deg, 'score': scr}  "
   ]
  },
  {
   "cell_type": "code",
   "execution_count": 24,
   "metadata": {},
   "outputs": [],
   "source": [
    "sf_results = pd.DataFrame(list(sf_results)).transpose()"
   ]
  },
  {
   "cell_type": "code",
   "execution_count": 25,
   "metadata": {},
   "outputs": [],
   "source": [
    "sf_results.columns = [\"mean_control_accuracy\", \"std_control_accuracy\", \n",
    "            \"mean_treat_accuracy\", \"std_treat_accuracy\", \n",
    "            \"mean_pred_score_control\", \"std_pred_score_control\",\n",
    "            \"mean_pred_score_treatment\", \"std_pred_score_treatment\"]"
   ]
  },
  {
   "cell_type": "code",
   "execution_count": 26,
   "metadata": {},
   "outputs": [
    {
     "data": {
      "text/html": [
       "<div>\n",
       "<style scoped>\n",
       "    .dataframe tbody tr th:only-of-type {\n",
       "        vertical-align: middle;\n",
       "    }\n",
       "\n",
       "    .dataframe tbody tr th {\n",
       "        vertical-align: top;\n",
       "    }\n",
       "\n",
       "    .dataframe thead th {\n",
       "        text-align: right;\n",
       "    }\n",
       "</style>\n",
       "<table border=\"1\" class=\"dataframe\">\n",
       "  <thead>\n",
       "    <tr style=\"text-align: right;\">\n",
       "      <th></th>\n",
       "      <th>mean_control_accuracy</th>\n",
       "      <th>std_control_accuracy</th>\n",
       "      <th>mean_treat_accuracy</th>\n",
       "      <th>std_treat_accuracy</th>\n",
       "      <th>mean_pred_score_control</th>\n",
       "      <th>std_pred_score_control</th>\n",
       "      <th>mean_pred_score_treatment</th>\n",
       "      <th>std_pred_score_treatment</th>\n",
       "    </tr>\n",
       "  </thead>\n",
       "  <tbody>\n",
       "    <tr>\n",
       "      <th>0</th>\n",
       "      <td>0.6</td>\n",
       "      <td>0.489898</td>\n",
       "      <td>0.4</td>\n",
       "      <td>0.489898</td>\n",
       "      <td>0.392564</td>\n",
       "      <td>0.385677</td>\n",
       "      <td>0.393943</td>\n",
       "      <td>0.422387</td>\n",
       "    </tr>\n",
       "    <tr>\n",
       "      <th>1</th>\n",
       "      <td>0.1</td>\n",
       "      <td>0.300000</td>\n",
       "      <td>1.0</td>\n",
       "      <td>0.000000</td>\n",
       "      <td>0.722624</td>\n",
       "      <td>0.191698</td>\n",
       "      <td>0.814537</td>\n",
       "      <td>0.104709</td>\n",
       "    </tr>\n",
       "    <tr>\n",
       "      <th>2</th>\n",
       "      <td>0.4</td>\n",
       "      <td>0.489898</td>\n",
       "      <td>0.7</td>\n",
       "      <td>0.458258</td>\n",
       "      <td>0.543045</td>\n",
       "      <td>0.198318</td>\n",
       "      <td>0.673363</td>\n",
       "      <td>0.171835</td>\n",
       "    </tr>\n",
       "    <tr>\n",
       "      <th>3</th>\n",
       "      <td>0.9</td>\n",
       "      <td>0.300000</td>\n",
       "      <td>0.3</td>\n",
       "      <td>0.458258</td>\n",
       "      <td>0.213512</td>\n",
       "      <td>0.131968</td>\n",
       "      <td>0.393299</td>\n",
       "      <td>0.203889</td>\n",
       "    </tr>\n",
       "    <tr>\n",
       "      <th>4</th>\n",
       "      <td>0.9</td>\n",
       "      <td>0.300000</td>\n",
       "      <td>0.3</td>\n",
       "      <td>0.458258</td>\n",
       "      <td>0.187630</td>\n",
       "      <td>0.155302</td>\n",
       "      <td>0.295522</td>\n",
       "      <td>0.244676</td>\n",
       "    </tr>\n",
       "    <tr>\n",
       "      <th>5</th>\n",
       "      <td>0.7</td>\n",
       "      <td>0.458258</td>\n",
       "      <td>0.6</td>\n",
       "      <td>0.489898</td>\n",
       "      <td>0.324578</td>\n",
       "      <td>0.361401</td>\n",
       "      <td>0.679215</td>\n",
       "      <td>0.287370</td>\n",
       "    </tr>\n",
       "    <tr>\n",
       "      <th>6</th>\n",
       "      <td>0.8</td>\n",
       "      <td>0.400000</td>\n",
       "      <td>0.9</td>\n",
       "      <td>0.300000</td>\n",
       "      <td>0.343598</td>\n",
       "      <td>0.340132</td>\n",
       "      <td>0.728700</td>\n",
       "      <td>0.192789</td>\n",
       "    </tr>\n",
       "    <tr>\n",
       "      <th>7</th>\n",
       "      <td>1.0</td>\n",
       "      <td>0.000000</td>\n",
       "      <td>0.8</td>\n",
       "      <td>0.400000</td>\n",
       "      <td>0.134028</td>\n",
       "      <td>0.126734</td>\n",
       "      <td>0.733124</td>\n",
       "      <td>0.210020</td>\n",
       "    </tr>\n",
       "    <tr>\n",
       "      <th>8</th>\n",
       "      <td>0.6</td>\n",
       "      <td>0.489898</td>\n",
       "      <td>0.7</td>\n",
       "      <td>0.458258</td>\n",
       "      <td>0.386999</td>\n",
       "      <td>0.428574</td>\n",
       "      <td>0.691723</td>\n",
       "      <td>0.349524</td>\n",
       "    </tr>\n",
       "    <tr>\n",
       "      <th>9</th>\n",
       "      <td>0.7</td>\n",
       "      <td>0.458258</td>\n",
       "      <td>1.0</td>\n",
       "      <td>0.000000</td>\n",
       "      <td>0.397993</td>\n",
       "      <td>0.306416</td>\n",
       "      <td>0.989802</td>\n",
       "      <td>0.014643</td>\n",
       "    </tr>\n",
       "    <tr>\n",
       "      <th>10</th>\n",
       "      <td>0.8</td>\n",
       "      <td>0.400000</td>\n",
       "      <td>0.8</td>\n",
       "      <td>0.400000</td>\n",
       "      <td>0.228514</td>\n",
       "      <td>0.315009</td>\n",
       "      <td>0.771880</td>\n",
       "      <td>0.301751</td>\n",
       "    </tr>\n",
       "    <tr>\n",
       "      <th>11</th>\n",
       "      <td>0.6</td>\n",
       "      <td>0.489898</td>\n",
       "      <td>1.0</td>\n",
       "      <td>0.000000</td>\n",
       "      <td>0.397340</td>\n",
       "      <td>0.282990</td>\n",
       "      <td>0.829411</td>\n",
       "      <td>0.157742</td>\n",
       "    </tr>\n",
       "    <tr>\n",
       "      <th>12</th>\n",
       "      <td>0.8</td>\n",
       "      <td>0.400000</td>\n",
       "      <td>1.0</td>\n",
       "      <td>0.000000</td>\n",
       "      <td>0.297654</td>\n",
       "      <td>0.343674</td>\n",
       "      <td>0.823900</td>\n",
       "      <td>0.158059</td>\n",
       "    </tr>\n",
       "    <tr>\n",
       "      <th>13</th>\n",
       "      <td>1.0</td>\n",
       "      <td>0.000000</td>\n",
       "      <td>0.9</td>\n",
       "      <td>0.300000</td>\n",
       "      <td>0.143162</td>\n",
       "      <td>0.152519</td>\n",
       "      <td>0.895379</td>\n",
       "      <td>0.211798</td>\n",
       "    </tr>\n",
       "    <tr>\n",
       "      <th>14</th>\n",
       "      <td>1.0</td>\n",
       "      <td>0.000000</td>\n",
       "      <td>0.5</td>\n",
       "      <td>0.500000</td>\n",
       "      <td>0.055124</td>\n",
       "      <td>0.071542</td>\n",
       "      <td>0.602797</td>\n",
       "      <td>0.334410</td>\n",
       "    </tr>\n",
       "    <tr>\n",
       "      <th>15</th>\n",
       "      <td>0.7</td>\n",
       "      <td>0.458258</td>\n",
       "      <td>0.8</td>\n",
       "      <td>0.400000</td>\n",
       "      <td>0.296792</td>\n",
       "      <td>0.301473</td>\n",
       "      <td>0.837552</td>\n",
       "      <td>0.278512</td>\n",
       "    </tr>\n",
       "    <tr>\n",
       "      <th>16</th>\n",
       "      <td>0.7</td>\n",
       "      <td>0.458258</td>\n",
       "      <td>1.0</td>\n",
       "      <td>0.000000</td>\n",
       "      <td>0.343247</td>\n",
       "      <td>0.335494</td>\n",
       "      <td>0.980586</td>\n",
       "      <td>0.015936</td>\n",
       "    </tr>\n",
       "    <tr>\n",
       "      <th>17</th>\n",
       "      <td>1.0</td>\n",
       "      <td>0.000000</td>\n",
       "      <td>0.9</td>\n",
       "      <td>0.300000</td>\n",
       "      <td>0.049225</td>\n",
       "      <td>0.059865</td>\n",
       "      <td>0.850965</td>\n",
       "      <td>0.157663</td>\n",
       "    </tr>\n",
       "    <tr>\n",
       "      <th>18</th>\n",
       "      <td>0.8</td>\n",
       "      <td>0.400000</td>\n",
       "      <td>1.0</td>\n",
       "      <td>0.000000</td>\n",
       "      <td>0.188376</td>\n",
       "      <td>0.310882</td>\n",
       "      <td>0.986738</td>\n",
       "      <td>0.021611</td>\n",
       "    </tr>\n",
       "  </tbody>\n",
       "</table>\n",
       "</div>"
      ],
      "text/plain": [
       "    mean_control_accuracy  std_control_accuracy  mean_treat_accuracy  \\\n",
       "0                     0.6              0.489898                  0.4   \n",
       "1                     0.1              0.300000                  1.0   \n",
       "2                     0.4              0.489898                  0.7   \n",
       "3                     0.9              0.300000                  0.3   \n",
       "4                     0.9              0.300000                  0.3   \n",
       "5                     0.7              0.458258                  0.6   \n",
       "6                     0.8              0.400000                  0.9   \n",
       "7                     1.0              0.000000                  0.8   \n",
       "8                     0.6              0.489898                  0.7   \n",
       "9                     0.7              0.458258                  1.0   \n",
       "10                    0.8              0.400000                  0.8   \n",
       "11                    0.6              0.489898                  1.0   \n",
       "12                    0.8              0.400000                  1.0   \n",
       "13                    1.0              0.000000                  0.9   \n",
       "14                    1.0              0.000000                  0.5   \n",
       "15                    0.7              0.458258                  0.8   \n",
       "16                    0.7              0.458258                  1.0   \n",
       "17                    1.0              0.000000                  0.9   \n",
       "18                    0.8              0.400000                  1.0   \n",
       "\n",
       "    std_treat_accuracy  mean_pred_score_control  std_pred_score_control  \\\n",
       "0             0.489898                 0.392564                0.385677   \n",
       "1             0.000000                 0.722624                0.191698   \n",
       "2             0.458258                 0.543045                0.198318   \n",
       "3             0.458258                 0.213512                0.131968   \n",
       "4             0.458258                 0.187630                0.155302   \n",
       "5             0.489898                 0.324578                0.361401   \n",
       "6             0.300000                 0.343598                0.340132   \n",
       "7             0.400000                 0.134028                0.126734   \n",
       "8             0.458258                 0.386999                0.428574   \n",
       "9             0.000000                 0.397993                0.306416   \n",
       "10            0.400000                 0.228514                0.315009   \n",
       "11            0.000000                 0.397340                0.282990   \n",
       "12            0.000000                 0.297654                0.343674   \n",
       "13            0.300000                 0.143162                0.152519   \n",
       "14            0.500000                 0.055124                0.071542   \n",
       "15            0.400000                 0.296792                0.301473   \n",
       "16            0.000000                 0.343247                0.335494   \n",
       "17            0.300000                 0.049225                0.059865   \n",
       "18            0.000000                 0.188376                0.310882   \n",
       "\n",
       "    mean_pred_score_treatment  std_pred_score_treatment  \n",
       "0                    0.393943                  0.422387  \n",
       "1                    0.814537                  0.104709  \n",
       "2                    0.673363                  0.171835  \n",
       "3                    0.393299                  0.203889  \n",
       "4                    0.295522                  0.244676  \n",
       "5                    0.679215                  0.287370  \n",
       "6                    0.728700                  0.192789  \n",
       "7                    0.733124                  0.210020  \n",
       "8                    0.691723                  0.349524  \n",
       "9                    0.989802                  0.014643  \n",
       "10                   0.771880                  0.301751  \n",
       "11                   0.829411                  0.157742  \n",
       "12                   0.823900                  0.158059  \n",
       "13                   0.895379                  0.211798  \n",
       "14                   0.602797                  0.334410  \n",
       "15                   0.837552                  0.278512  \n",
       "16                   0.980586                  0.015936  \n",
       "17                   0.850965                  0.157663  \n",
       "18                   0.986738                  0.021611  "
      ]
     },
     "execution_count": 26,
     "metadata": {},
     "output_type": "execute_result"
    }
   ],
   "source": [
    "sf_results"
   ]
  },
  {
   "cell_type": "code",
   "execution_count": 24,
   "metadata": {},
   "outputs": [],
   "source": [
    "class dmso_taxol_ProfileBag(D.Dataset):\n",
    "    def __init__(self, df:pandas.DataFrame, size:int, bag_mean_size, bag_std_size,\n",
    "                 perc:float, treatment:str, control:str, batch_size, merged_perc:float=0.5, transform:bool = False):\n",
    "        batch_size = int(batch_size/2)\n",
    "        self.df = df\n",
    "        self.size = size\n",
    "        self.batch_size = batch_size\n",
    "        self.merged_pos_size = int(size) * batch_size\n",
    "#         self.unmerged_neg_size = int(size * (1 - merged_perc)) * batch_size\n",
    "        \n",
    "        self.bag_mean_size = bag_mean_size\n",
    "        self.bag_std_size = bag_std_size\n",
    "        self.perc = perc\n",
    "        self.treatment = treatment\n",
    "        self.control = control\n",
    "        self.bag_size = np.random.normal(bag_mean_size, bag_std_size, size).astype(int).repeat(batch_size)\n",
    "\n",
    "\n",
    "        self.treatment_data = self.df[self.df[\"compound\"] == self.treatment]\n",
    "        self.control_data = self.df[self.df[\"compound\"] == self.control]\n",
    "        \n",
    "        self.treatment_size = (self.bag_size * self.perc).astype(int)\n",
    "        self.control_size = self.bag_size - self.treatment_size\n",
    "        \n",
    "        self.treatment_replace = len(self.treatment_data) < np.sum(self.treatment_size)\n",
    "        self.control_replace = len(self.control_data) < np.sum(self.control_size)\n",
    "        self.treat_index_list, self.control_index_list = self._get_sampling_index()\n",
    "        \n",
    "        self.transform = transform\n",
    "        \n",
    "    def _get_sampling_index(self):\n",
    "        treat_index_list = []\n",
    "        control_index_list = []\n",
    "\n",
    "        treat_length = len(self.treatment_data)\n",
    "        control_length = len(self.control_data)\n",
    "        \n",
    "        index = np.arange(treat_length)\n",
    "        for i in range(self.merged_pos_size):\n",
    "            if len(index) < self.treatment_size[i]:\n",
    "                index = np.arange(treat_length)\n",
    "            z = np.random.choice(index, self.treatment_size[i], replace=self.treatment_replace)\n",
    "            index = index[~np.isin(index, z)]\n",
    "            treat_index_list.append(z)\n",
    "\n",
    "        index = np.arange(control_length)\n",
    "        for i in range(self.merged_pos_size):\n",
    "            if len(index) < self.control_size[i]:\n",
    "                index = np.arange(control_length)\n",
    "            z = np.random.choice(index, self.control_size[i], replace=self.control_replace )\n",
    "            index = index[~np.isin(index, z)]\n",
    "            control_index_list.append(z)\n",
    "            \n",
    "        return treat_index_list, control_index_list\n",
    "        \n",
    "    def _shuffle_tensor(self, mat):\n",
    "        idxs = list(range(mat.shape[0]))\n",
    "        random.shuffle(idxs)\n",
    "        return mat[torch.tensor(idxs), :]    \n",
    "    \n",
    "    def __getitem__(self, index):\n",
    "        index = index * self.batch_size\n",
    "        X = []\n",
    "        y = []\n",
    "        for i in range(self.batch_size):\n",
    "            merged_data = self.treatment_data.iloc[self.treat_index_list[index+i]].append(self.control_data.iloc[self.control_index_list[index+i]]) \n",
    "            sub_X, sub_y = data_label_split(merged_data.sample(frac=1))\n",
    "            sub_X, sub_y = torch.from_numpy(sub_X.values), [torch.tensor([1.0]),sub_y]\n",
    "            if self.transform == True:\n",
    "                sub_X = self._shuffle_tensor(sub_X)\n",
    "            X.append(sub_X) \n",
    "            y.append(sub_y)\n",
    "            \n",
    "        for i in range(self.batch_size):\n",
    "            unmerged_bag_size = self.bag_size[index]\n",
    "            sub_X, sub_y = data_label_split(self.control_data.sample(unmerged_bag_size))\n",
    "            sub_X, sub_y = torch.from_numpy(sub_X.values), [torch.tensor([0.0]),sub_y]\n",
    "            if self.transform ==  True:\n",
    "                sub_X = self._shuffle_tensor(sub_X)\n",
    "            X.append(sub_X)\n",
    "            y.append(sub_y)\n",
    "            \n",
    "        X_shuf = []\n",
    "        y_shuf = []\n",
    "        index_shuf = list(range(len(X)))\n",
    "        shuffle(index_shuf)\n",
    "        for i in index_shuf:\n",
    "            X_shuf.append(X[i])\n",
    "            y_shuf.append(y[i])\n",
    "            \n",
    "        return torch.stack(X_shuf, dim = 0), y_shuf#torch.stack(y_shuf, dim = 0)\n",
    "    \n",
    "\n",
    "    def __len__(self):\n",
    "        return self.size\n",
    "\n"
   ]
  },
  {
   "cell_type": "code",
   "execution_count": 16,
   "metadata": {},
   "outputs": [],
   "source": [
    "from random import shuffle\n",
    "import random"
   ]
  },
  {
   "cell_type": "code",
   "execution_count": null,
   "metadata": {},
   "outputs": [],
   "source": [
    "start = 90\n",
    "end = 91\n",
    "data = mini_data\n",
    "num_bag = 60\n",
    "bag_size_mean = 200\n",
    "bag_size_std = 10\n",
    "treatment = \"taxol\"\n",
    "control = \"DMSO\"\n",
    "batch_size = 8\n",
    "model = profile_AttSet(481).cuda()#FullDeepSet(\"mean\").cuda()\n",
    "splits = 3\n",
    "epochs = 10"
   ]
  },
  {
   "cell_type": "code",
   "execution_count": 25,
   "metadata": {},
   "outputs": [],
   "source": [
    "dataset = dmso_taxol_ProfileBag(mini_data, 10, 5, 1,\n",
    "                 0.5, \"taxol\", \"DMSO\", 2, 0.5, False)"
   ]
  },
  {
   "cell_type": "code",
   "execution_count": 29,
   "metadata": {},
   "outputs": [
    {
     "data": {
      "text/plain": [
       "[[tensor([1.]),\n",
       "       compound\n",
       "  1222     DMSO\n",
       "  1300     DMSO\n",
       "  2271    taxol\n",
       "  2601     DMSO\n",
       "  1541    taxol],\n",
       " [tensor([0.]),\n",
       "       compound\n",
       "  2038     DMSO\n",
       "  1323     DMSO\n",
       "  1891     DMSO\n",
       "  1294     DMSO\n",
       "  212      DMSO]]"
      ]
     },
     "execution_count": 29,
     "metadata": {},
     "output_type": "execute_result"
    }
   ],
   "source": [
    "dataset[2][1]"
   ]
  },
  {
   "cell_type": "code",
   "execution_count": null,
   "metadata": {},
   "outputs": [],
   "source": []
  }
 ],
 "metadata": {
  "kernelspec": {
   "display_name": "Python 3",
   "language": "python",
   "name": "python3"
  },
  "language_info": {
   "codemirror_mode": {
    "name": "ipython",
    "version": 3
   },
   "file_extension": ".py",
   "mimetype": "text/x-python",
   "name": "python",
   "nbconvert_exporter": "python",
   "pygments_lexer": "ipython3",
   "version": "3.8.8"
  }
 },
 "nbformat": 4,
 "nbformat_minor": 4
}
