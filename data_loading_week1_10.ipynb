{
 "cells": [
  {
   "cell_type": "code",
   "execution_count": 1,
   "id": "1236bdcf-e68e-45f8-8e43-e862d8145fa0",
   "metadata": {},
   "outputs": [],
   "source": [
    "import pandas as pd"
   ]
  },
  {
   "cell_type": "code",
   "execution_count": 2,
   "id": "c88ef19c-d148-4507-ae5f-9a71e608180c",
   "metadata": {},
   "outputs": [],
   "source": [
    "week1_10=pd.read_csv(\"week1_full_data.csv\", index_col=0)"
   ]
  },
  {
   "cell_type": "code",
   "execution_count": 5,
   "id": "980d91af-fa11-46d3-b625-ab0b33f46b4c",
   "metadata": {},
   "outputs": [
    {
     "name": "stdout",
     "output_type": "stream",
     "text": [
      "Metadata_FieldID_Nuclei\n",
      "Metadata_FieldID(2)_Nuclei\n",
      "Metadata_Frame_Nuclei\n",
      "Metadata_PlateID_Nuclei\n",
      "Metadata_PlateID(2)_Nuclei\n",
      "Metadata_Series_Nuclei\n",
      "Metadata_WellID_Nuclei\n",
      "Metadata_WellID(2)_Nuclei\n",
      "Metadata_path_Nuclei\n",
      "Metadata_plateID1_Nuclei\n",
      "Metadata_FieldID(2)_Cytoskeleton\n",
      "Metadata_Frame_Cytoskeleton\n",
      "Metadata_PlateID(2)_Cytoskeleton\n",
      "Metadata_Series_Cytoskeleton\n",
      "Metadata_WellID(2)_Cytoskeleton\n",
      "Metadata_path_Cytoskeleton\n",
      "Metadata_plateID1_Cytoskeleton\n",
      "Metadata_FieldID(2)_Cells\n",
      "Metadata_Frame_Cells\n",
      "Metadata_PlateID(2)_Cells\n",
      "Metadata_Series_Cells\n",
      "Metadata_WellID(2)_Cells\n",
      "Metadata_path_Cells\n",
      "Metadata_plateID1_Cells\n",
      "Metadata_Image_Metadata_Compound\n",
      "Metadata_Image_Metadata_Concentration\n"
     ]
    }
   ],
   "source": [
    "for i in week1_10.columns:\n",
    "    if 'Meta' in i:\n",
    "        print(i)"
   ]
  },
  {
   "cell_type": "code",
   "execution_count": 24,
   "id": "461b604b-f595-4b1e-820e-75bfe3eda73a",
   "metadata": {},
   "outputs": [
    {
     "data": {
      "text/plain": [
       "Week10_40111    7856\n",
       "Week1_22381     7132\n",
       "Week10_40115    7109\n",
       "Week1_22401     6903\n",
       "Week1_22361     6627\n",
       "Week1_22141     6447\n",
       "Week1_22123     6222\n",
       "Week10_40119    6193\n",
       "Week1_22161     5715\n",
       "Name: Metadata_PlateID_Nuclei, dtype: int64"
      ]
     },
     "execution_count": 24,
     "metadata": {},
     "output_type": "execute_result"
    }
   ],
   "source": [
    "week1_10['Metadata_PlateID_Nuclei'].value_counts()"
   ]
  },
  {
   "cell_type": "code",
   "execution_count": 7,
   "id": "136b3061-a2ed-4ccb-9906-149c57581b2a",
   "metadata": {},
   "outputs": [
    {
     "data": {
      "text/plain": [
       "B02    8676\n",
       "C02    8102\n",
       "G11    8088\n",
       "E11    8078\n",
       "D02    7911\n",
       "F11    6960\n",
       "B11    2074\n",
       "C11    1980\n",
       "E02    1754\n",
       "D11    1706\n",
       "G02    1682\n",
       "F02    1545\n",
       "D03     599\n",
       "D04     533\n",
       "D05     516\n",
       "Name: Metadata_WellID_Nuclei, dtype: int64"
      ]
     },
     "execution_count": 7,
     "metadata": {},
     "output_type": "execute_result"
    }
   ],
   "source": [
    "week1_10['Metadata_WellID_Nuclei'].value_counts()"
   ]
  },
  {
   "cell_type": "code",
   "execution_count": 11,
   "id": "fbe0cc91-f30c-4ed7-a170-45420ce79b07",
   "metadata": {},
   "outputs": [
    {
     "data": {
      "text/plain": [
       "Metadata_WellID_Nuclei\n",
       "B02    0.0\n",
       "B11    0.3\n",
       "C02    0.0\n",
       "C11    0.3\n",
       "D02    0.0\n",
       "D03    3.0\n",
       "D04    1.0\n",
       "D05    0.3\n",
       "D11    0.3\n",
       "E02    0.3\n",
       "E11    0.0\n",
       "F02    0.3\n",
       "F11    0.0\n",
       "G02    0.3\n",
       "G11    0.0\n",
       "Name: concentration, dtype: float64"
      ]
     },
     "execution_count": 11,
     "metadata": {},
     "output_type": "execute_result"
    }
   ],
   "source": [
    "week1_10.groupby('Metadata_WellID_Nuclei')['concentration'].mean()"
   ]
  },
  {
   "cell_type": "code",
   "execution_count": 29,
   "id": "af4f3f6d-169c-4fe6-a33e-7023c65ac1c2",
   "metadata": {},
   "outputs": [],
   "source": [
    "pd.set_option(\"display.max_rows\", None)"
   ]
  },
  {
   "cell_type": "code",
   "execution_count": 30,
   "id": "384a13b3-fd95-41b7-b987-69656cb3e562",
   "metadata": {},
   "outputs": [
    {
     "data": {
      "text/plain": [
       "Metadata_WellID_Nuclei  Metadata_PlateID_Nuclei\n",
       "B02                     Week10_40111               1105\n",
       "                        Week1_22401                1095\n",
       "                        Week10_40119               1021\n",
       "                        Week1_22361                 987\n",
       "                        Week1_22381                 973\n",
       "                        Week1_22141                 932\n",
       "                        Week10_40115                881\n",
       "                        Week1_22123                 842\n",
       "                        Week1_22161                 840\n",
       "B11                     Week10_40111                312\n",
       "                        Week10_40115                302\n",
       "                        Week10_40119                277\n",
       "                        Week1_22381                 222\n",
       "                        Week1_22401                 207\n",
       "                        Week1_22141                 202\n",
       "                        Week1_22161                 196\n",
       "                        Week1_22123                 187\n",
       "                        Week1_22361                 169\n",
       "C02                     Week1_22401                1073\n",
       "                        Week10_40119               1001\n",
       "                        Week1_22381                 930\n",
       "                        Week10_40111                926\n",
       "                        Week1_22361                 875\n",
       "                        Week10_40115                867\n",
       "                        Week1_22141                 851\n",
       "                        Week1_22123                 834\n",
       "                        Week1_22161                 745\n",
       "C11                     Week10_40111                358\n",
       "                        Week10_40119                265\n",
       "                        Week10_40115                243\n",
       "                        Week1_22141                 228\n",
       "                        Week1_22361                 223\n",
       "                        Week1_22401                 210\n",
       "                        Week1_22381                 168\n",
       "                        Week1_22123                 154\n",
       "                        Week1_22161                 131\n",
       "D02                     Week10_40115               1122\n",
       "                        Week10_40119               1104\n",
       "                        Week1_22361                1004\n",
       "                        Week1_22401                 997\n",
       "                        Week1_22381                 984\n",
       "                        Week1_22141                 775\n",
       "                        Week1_22161                 726\n",
       "                        Week1_22123                 624\n",
       "                        Week10_40111                575\n",
       "D03                     Week1_22141                 215\n",
       "                        Week1_22123                 199\n",
       "                        Week1_22161                 185\n",
       "D04                     Week1_22141                 202\n",
       "                        Week1_22123                 175\n",
       "                        Week1_22161                 156\n",
       "D05                     Week1_22161                 192\n",
       "                        Week1_22141                 182\n",
       "                        Week1_22123                 142\n",
       "D11                     Week10_40111                266\n",
       "                        Week10_40115                233\n",
       "                        Week10_40119                227\n",
       "                        Week1_22123                 184\n",
       "                        Week1_22401                 176\n",
       "                        Week1_22141                 173\n",
       "                        Week1_22361                 155\n",
       "                        Week1_22161                 150\n",
       "                        Week1_22381                 142\n",
       "E02                     Week10_40111                325\n",
       "                        Week1_22161                 227\n",
       "                        Week1_22123                 208\n",
       "                        Week1_22141                 202\n",
       "                        Week1_22381                 202\n",
       "                        Week10_40115                181\n",
       "                        Week1_22401                 149\n",
       "                        Week10_40119                139\n",
       "                        Week1_22361                 121\n",
       "E11                     Week10_40111               1199\n",
       "                        Week1_22361                1095\n",
       "                        Week1_22381                1073\n",
       "                        Week1_22401                 976\n",
       "                        Week10_40119                958\n",
       "                        Week10_40115                903\n",
       "                        Week1_22141                 680\n",
       "                        Week1_22123                 668\n",
       "                        Week1_22161                 526\n",
       "F02                     Week10_40111                268\n",
       "                        Week1_22161                 209\n",
       "                        Week1_22141                 201\n",
       "                        Week10_40115                198\n",
       "                        Week1_22361                 186\n",
       "                        Week1_22123                 149\n",
       "                        Week1_22401                 136\n",
       "                        Week1_22381                 124\n",
       "                        Week10_40119                 74\n",
       "F11                     Week10_40111               1162\n",
       "                        Week1_22381                1072\n",
       "                        Week10_40115               1041\n",
       "                        Week1_22401                 849\n",
       "                        Week1_22361                 777\n",
       "                        Week1_22123                 774\n",
       "                        Week1_22141                 721\n",
       "                        Week1_22161                 564\n",
       "G02                     Week1_22123                 251\n",
       "                        Week1_22381                 240\n",
       "                        Week1_22401                 212\n",
       "                        Week1_22361                 199\n",
       "                        Week1_22161                 196\n",
       "                        Week1_22141                 194\n",
       "                        Week10_40111                161\n",
       "                        Week10_40115                138\n",
       "                        Week10_40119                 91\n",
       "G11                     Week10_40111               1199\n",
       "                        Week10_40119               1036\n",
       "                        Week1_22381                1002\n",
       "                        Week10_40115               1000\n",
       "                        Week1_22361                 836\n",
       "                        Week1_22123                 831\n",
       "                        Week1_22401                 823\n",
       "                        Week1_22141                 689\n",
       "                        Week1_22161                 672\n",
       "Name: Metadata_PlateID_Nuclei, dtype: int64"
      ]
     },
     "execution_count": 30,
     "metadata": {},
     "output_type": "execute_result"
    }
   ],
   "source": [
    "week1_10.groupby('Metadata_WellID_Nuclei')['Metadata_PlateID_Nuclei'].value_counts()"
   ]
  },
  {
   "cell_type": "code",
   "execution_count": 28,
   "id": "460a199c-520b-4563-a7f0-317ec66eebdc",
   "metadata": {},
   "outputs": [
    {
     "data": {
      "text/plain": [
       "Metadata_WellID_Nuclei\n",
       "B02    0.0\n",
       "B11    0.3\n",
       "C02    0.0\n",
       "C11    0.3\n",
       "D02    0.0\n",
       "D03    3.0\n",
       "D04    1.0\n",
       "D05    0.3\n",
       "D11    0.3\n",
       "E02    0.3\n",
       "E11    0.0\n",
       "F02    0.3\n",
       "F11    0.0\n",
       "G02    0.3\n",
       "G11    0.0\n",
       "Name: concentration, dtype: float64"
      ]
     },
     "execution_count": 28,
     "metadata": {},
     "output_type": "execute_result"
    }
   ],
   "source": [
    "week1_10.groupby('Metadata_WellID_Nuclei')['concentration'].mean()"
   ]
  },
  {
   "cell_type": "code",
   "execution_count": 10,
   "id": "38b685bc-b5cd-478d-9346-7b16b5d0c37e",
   "metadata": {},
   "outputs": [
    {
     "data": {
      "text/plain": [
       "0.3    516\n",
       "Name: concentration, dtype: int64"
      ]
     },
     "execution_count": 10,
     "metadata": {},
     "output_type": "execute_result"
    }
   ],
   "source": [
    "week1_10[week1_10['Metadata_WellID_Nuclei']=='D05']['concentration'].value_counts()"
   ]
  },
  {
   "cell_type": "code",
   "execution_count": null,
   "id": "a0d72010-6f43-4a23-b2ab-c6e875cd8891",
   "metadata": {},
   "outputs": [],
   "source": []
  }
 ],
 "metadata": {
  "kernelspec": {
   "display_name": "py3.8",
   "language": "python",
   "name": "py3.8"
  },
  "language_info": {
   "codemirror_mode": {
    "name": "ipython",
    "version": 3
   },
   "file_extension": ".py",
   "mimetype": "text/x-python",
   "name": "python",
   "nbconvert_exporter": "python",
   "pygments_lexer": "ipython3",
   "version": "3.8.12"
  }
 },
 "nbformat": 4,
 "nbformat_minor": 5
}
